{
 "cells": [
  {
   "cell_type": "markdown",
   "metadata": {},
   "source": [
    "## Lesson 7 ##"
   ]
  },
  {
   "cell_type": "markdown",
   "metadata": {},
   "source": [
    "### Task 1 ###"
   ]
  },
  {
   "cell_type": "markdown",
   "metadata": {},
   "source": [
    "Даны значения величины заработной платы заемщиков банка (zp) и значения их поведенческого кредитного скоринга (ks): zp = [35, 45, 190, 200, 40, 70, 54, 150, 120, 110], ks = [401, 574, 874, 919, 459, 739, 653, 902, 746, 832]. Используя математические операции, посчитать коэффициенты линейной регрессии, приняв за X заработную плату (то есть, zp - признак), а за y - значения скорингового балла (то есть, ks - целевая переменная). Произвести расчет как с использованием intercept, так и без"
   ]
  },
  {
   "cell_type": "markdown",
   "metadata": {},
   "source": [
    "#### Решение ####"
   ]
  },
  {
   "cell_type": "code",
   "execution_count": 19,
   "metadata": {},
   "outputs": [],
   "source": [
    "import matplotlib.pyplot as plt\n",
    "import numpy as np"
   ]
  },
  {
   "cell_type": "code",
   "execution_count": 4,
   "metadata": {},
   "outputs": [
    {
     "data": {
      "text/plain": [
       "array([ 35,  45, 190, 200,  40,  70,  54, 150, 120, 110])"
      ]
     },
     "execution_count": 4,
     "metadata": {},
     "output_type": "execute_result"
    }
   ],
   "source": [
    "X = np.array([35, 45, 190, 200, 40, 70, 54, 150, 120, 110])\n",
    "X"
   ]
  },
  {
   "cell_type": "code",
   "execution_count": 5,
   "metadata": {},
   "outputs": [
    {
     "data": {
      "text/plain": [
       "array([401, 574, 874, 919, 459, 739, 653, 902, 746, 832])"
      ]
     },
     "execution_count": 5,
     "metadata": {},
     "output_type": "execute_result"
    }
   ],
   "source": [
    "y = np.array([401, 574, 874, 919, 459, 739, 653, 902, 746, 832])\n",
    "y"
   ]
  },
  {
   "cell_type": "code",
   "execution_count": 9,
   "metadata": {},
   "outputs": [
    {
     "data": {
      "text/plain": [
       "10"
      ]
     },
     "execution_count": 9,
     "metadata": {},
     "output_type": "execute_result"
    }
   ],
   "source": [
    "n = len(X)\n",
    "n"
   ]
  },
  {
   "cell_type": "code",
   "execution_count": 20,
   "metadata": {},
   "outputs": [
    {
     "data": {
      "image/png": "[encoded data removed]",
      "text/plain": [
       "<Figure size 432x288 with 1 Axes>"
      ]
     },
     "metadata": {
      "needs_background": "light"
     },
     "output_type": "display_data"
    }
   ],
   "source": [
    "%matplotlib inline\n",
    "plt.scatter(X, y)\n",
    "plt.show()"
   ]
  },
  {
   "cell_type": "code",
   "execution_count": 11,
   "metadata": {},
   "outputs": [
    {
     "data": {
      "text/plain": [
       "2.6205388824027653"
      ]
     },
     "execution_count": 11,
     "metadata": {},
     "output_type": "execute_result"
    }
   ],
   "source": [
    "b = (n*(X*y).sum() - X.sum()*y.sum())/(n * (X**2).sum() - X.sum()**2)\n",
    "b"
   ]
  },
  {
   "cell_type": "code",
   "execution_count": 12,
   "metadata": {},
   "outputs": [
    {
     "data": {
      "text/plain": [
       "array([ 91.71886088, 117.92424971, 497.90238766, 524.10777648,\n",
       "       104.8215553 , 183.43772177, 141.50909965, 393.08083236,\n",
       "       314.46466589, 288.25927706])"
      ]
     },
     "execution_count": 12,
     "metadata": {},
     "output_type": "execute_result"
    }
   ],
   "source": [
    "y_hat = b*X\n",
    "y_hat"
   ]
  },
  {
   "cell_type": "code",
   "execution_count": 21,
   "metadata": {},
   "outputs": [
    {
     "data": {
      "image/png": "[encoded data removed]",
      "text/plain": [
       "<Figure size 432x288 with 1 Axes>"
      ]
     },
     "metadata": {
      "needs_background": "light"
     },
     "output_type": "display_data"
    }
   ],
   "source": [
    "plt.scatter(X, y)\n",
    "plt.plot(X, y_hat)\n",
    "plt.show()"
   ]
  },
  {
   "cell_type": "code",
   "execution_count": 13,
   "metadata": {},
   "outputs": [
    {
     "data": {
      "text/plain": [
       "444.17735732435955"
      ]
     },
     "execution_count": 13,
     "metadata": {},
     "output_type": "execute_result"
    }
   ],
   "source": [
    "a = y.mean() - b*np.mean(X)\n",
    "a"
   ]
  },
  {
   "cell_type": "code",
   "execution_count": 14,
   "metadata": {},
   "outputs": [
    {
     "data": {
      "text/plain": [
       "array([535.89621821, 562.10160703, 942.07974498, 968.2851338 ,\n",
       "       548.99891262, 627.61507909, 585.68645697, 837.25818968,\n",
       "       758.64202321, 732.43663439])"
      ]
     },
     "execution_count": 14,
     "metadata": {},
     "output_type": "execute_result"
    }
   ],
   "source": [
    "y_hat_a = a + b*X\n",
    "y_hat_a"
   ]
  },
  {
   "cell_type": "code",
   "execution_count": 22,
   "metadata": {},
   "outputs": [
    {
     "data": {
      "image/png": "[encoded data removed]",
      "text/plain": [
       "<Figure size 432x288 with 1 Axes>"
      ]
     },
     "metadata": {
      "needs_background": "light"
     },
     "output_type": "display_data"
    }
   ],
   "source": [
    "plt.scatter(X, y)\n",
    "plt.plot(X, y_hat_a)\n",
    "plt.show()"
   ]
  },
  {
   "cell_type": "markdown",
   "metadata": {},
   "source": [
    "### Task 2 ###"
   ]
  },
  {
   "cell_type": "markdown",
   "metadata": {},
   "source": [
    "Посчитать коэффициент линейной регрессии при заработной плате (zp), используя градиентный спуск (без intercept)"
   ]
  },
  {
   "cell_type": "markdown",
   "metadata": {},
   "source": [
    "#### Решение ####"
   ]
  },
  {
   "cell_type": "code",
   "execution_count": 29,
   "metadata": {},
   "outputs": [],
   "source": [
    "def mse_(B1, y=y, X=X):\n",
    "    return np.sum((B1*X - y)**2)/len(X)"
   ]
  },
  {
   "cell_type": "code",
   "execution_count": 30,
   "metadata": {},
   "outputs": [
    {
     "data": {
      "text/plain": [
       "1e-06"
      ]
     },
     "execution_count": 30,
     "metadata": {},
     "output_type": "execute_result"
    }
   ],
   "source": [
    "alpha = 1e-6\n",
    "alpha"
   ]
  },
  {
   "cell_type": "code",
   "execution_count": 33,
   "metadata": {},
   "outputs": [
    {
     "name": "stdout",
     "output_type": "stream",
     "text": [
      "Iteration: 0, B1 = 9.8867514, mse = 276604.34287384455\n",
      "Iteration: 10, B1 = 8.912451643393798, mse = 182384.00227043722\n",
      "Iteration: 20, B1 = 8.175649111659467, mse = 128499.76985273242\n",
      "Iteration: 30, B1 = 7.6184510141651876, mse = 97683.59486704983\n",
      "Iteration: 40, B1 = 7.197076620784041, mse = 80059.94879955593\n",
      "Iteration: 50, B1 = 6.878417278270489, mse = 69981.0567613131\n",
      "Iteration: 60, B1 = 6.637434963810485, mse = 64216.97909375703\n",
      "Iteration: 70, B1 = 6.455194972274599, mse = 60920.526345622304\n",
      "Iteration: 80, B1 = 6.317378159495538, mse = 59035.29832694914\n",
      "Iteration: 90, B1 = 6.2131558440503625, mse = 57957.14403385289\n",
      "Iteration: 100, B1 = 6.134338965197076, mse = 57340.5519462072\n",
      "Iteration: 110, B1 = 6.07473464374596, mse = 56987.92542050329\n",
      "Iteration: 120, B1 = 6.029659588918414, mse = 56786.25973402847\n",
      "Iteration: 130, B1 = 5.99557211810688, mse = 56670.92794207047\n",
      "Iteration: 140, B1 = 5.969793876221811, mse = 56604.97015585129\n",
      "Iteration: 150, B1 = 5.950299389277936, mse = 56567.24916418826\n",
      "Iteration: 160, B1 = 5.935556916812233, mse = 56545.676681338155\n",
      "Iteration: 170, B1 = 5.924408098429491, mse = 56533.33946548563\n",
      "Iteration: 180, B1 = 5.915976937942634, mse = 56526.283861545686\n",
      "Iteration: 190, B1 = 5.9096009737180175, mse = 56522.24879013634\n",
      "Iteration: 200, B1 = 5.904779227072703, mse = 56519.94114908718\n",
      "Iteration: 210, B1 = 5.90113283887281, mse = 56518.62141848726\n",
      "Iteration: 220, B1 = 5.898375301432048, mse = 56517.866669884985\n",
      "Iteration: 230, B1 = 5.896289946741225, mse = 56517.43503220631\n",
      "Iteration: 240, B1 = 5.8947129222112045, mse = 56517.18818036042\n",
      "Iteration: 250, B1 = 5.893520316282229, mse = 56517.04700678632\n",
      "Iteration: 260, B1 = 5.892618422320056, mse = 56516.96627018923\n",
      "Iteration: 270, B1 = 5.891936375803899, mse = 56516.920097255264\n",
      "Iteration: 280, B1 = 5.891420586287935, mse = 56516.89369114077\n",
      "Iteration: 290, B1 = 5.891030526638809, mse = 56516.87858959047\n",
      "Iteration: 300, B1 = 5.890735548696904, mse = 56516.86995307483\n",
      "Iteration: 310, B1 = 5.890512475158266, mse = 56516.865013886396\n",
      "Iteration: 320, B1 = 5.890343778464134, mse = 56516.86218918447\n",
      "Iteration: 330, B1 = 5.890216203607947, mse = 56516.86057374884\n",
      "Iteration: 340, B1 = 5.890119726649614, mse = 56516.85964988773\n",
      "Iteration: 350, B1 = 5.890046767104388, mse = 56516.859121535286\n",
      "Iteration: 360, B1 = 5.8899915923214, mse = 56516.85881937265\n",
      "Iteration: 370, B1 = 5.889949867052027, mse = 56516.858646567074\n",
      "Iteration: 380, B1 = 5.88991831281638, mse = 56516.858547740245\n",
      "Iteration: 390, B1 = 5.889894450303273, mse = 56516.85849122158\n",
      "Iteration: 400, B1 = 5.889876404563293, mse = 56516.8584588988\n",
      "Iteration: 410, B1 = 5.889862757688382, mse = 56516.85844041355\n",
      "Iteration: 420, B1 = 5.8898524374025385, mse = 56516.85842984189\n",
      "Iteration: 430, B1 = 5.88984463280987, mse = 56516.85842379598\n",
      "Iteration: 440, B1 = 5.88983873068006, mse = 56516.85842033838\n",
      "Iteration: 450, B1 = 5.88983426726502, mse = 56516.85841836096\n",
      "Iteration: 460, B1 = 5.889830891860811, mse = 56516.8584172301\n",
      "Iteration: 470, B1 = 5.8898283392517685, mse = 56516.85841658337\n",
      "Iteration: 480, B1 = 5.889826408871726, mse = 56516.858416213516\n",
      "Iteration: 490, B1 = 5.88982494904492, mse = 56516.85841600199\n",
      "Iteration: 500, B1 = 5.889823845068368, mse = 56516.85841588101\n",
      "Iteration: 510, B1 = 5.889823010199311, mse = 56516.85841581183\n",
      "Iteration: 520, B1 = 5.889822378839578, mse = 56516.85841577225\n",
      "Iteration: 530, B1 = 5.8898219013813335, mse = 56516.85841574962\n",
      "Iteration: 540, B1 = 5.889821540309249, mse = 56516.858415736686\n",
      "Iteration: 550, B1 = 5.889821267252808, mse = 56516.85841572929\n",
      "Iteration: 560, B1 = 5.889821060757141, mse = 56516.85841572506\n",
      "Iteration: 570, B1 = 5.889820904597264, mse = 56516.858415722636\n",
      "Iteration: 580, B1 = 5.889820786503225, mse = 56516.85841572126\n",
      "Iteration: 590, B1 = 5.889820697196023, mse = 56516.85841572048\n",
      "Iteration: 600, B1 = 5.88982062965852, mse = 56516.85841572002\n",
      "Iteration: 610, B1 = 5.889820578584091, mse = 56516.85841571975\n",
      "Iteration: 620, B1 = 5.889820539959666, mse = 56516.8584157196\n",
      "Iteration: 630, B1 = 5.889820510750406, mse = 56516.85841571953\n",
      "Iteration: 640, B1 = 5.889820488661253, mse = 56516.85841571946\n",
      "Iteration: 650, B1 = 5.889820471956595, mse = 56516.85841571945\n",
      "Iteration: 660, B1 = 5.889820459323897, mse = 56516.85841571943\n",
      "Iteration: 670, B1 = 5.889820449770572, mse = 56516.85841571941\n",
      "Iteration: 680, B1 = 5.889820442545984, mse = 56516.85841571941\n",
      "Iteration: 690, B1 = 5.889820437082474, mse = 56516.85841571943\n",
      "Iteration: 700, B1 = 5.889820432950761, mse = 56516.85841571941\n",
      "Iteration: 710, B1 = 5.8898204298262025, mse = 56516.8584157194\n",
      "Iteration: 720, B1 = 5.889820427463293, mse = 56516.85841571941\n",
      "Iteration: 730, B1 = 5.88982042567637, mse = 56516.85841571941\n",
      "Iteration: 740, B1 = 5.889820424325032, mse = 56516.85841571943\n",
      "Iteration: 750, B1 = 5.889820423303099, mse = 56516.85841571941\n",
      "Iteration: 760, B1 = 5.889820422530272, mse = 56516.8584157194\n",
      "Iteration: 770, B1 = 5.889820421945833, mse = 56516.85841571941\n",
      "Iteration: 780, B1 = 5.889820421503857, mse = 56516.85841571941\n",
      "Iteration: 790, B1 = 5.889820421169619, mse = 56516.8584157194\n",
      "Iteration: 800, B1 = 5.8898204209168545, mse = 56516.85841571941\n",
      "Iteration: 810, B1 = 5.889820420725704, mse = 56516.8584157194\n",
      "Iteration: 820, B1 = 5.88982042058115, mse = 56516.8584157194\n",
      "Iteration: 830, B1 = 5.889820420471832, mse = 56516.85841571941\n",
      "Iteration: 840, B1 = 5.889820420389162, mse = 56516.8584157194\n",
      "Iteration: 850, B1 = 5.889820420326644, mse = 56516.8584157194\n",
      "Iteration: 860, B1 = 5.889820420279365, mse = 56516.85841571941\n",
      "Iteration: 870, B1 = 5.889820420243611, mse = 56516.8584157194\n",
      "Iteration: 880, B1 = 5.889820420216573, mse = 56516.85841571943\n",
      "Iteration: 890, B1 = 5.889820420196124, mse = 56516.8584157194\n",
      "Iteration: 900, B1 = 5.889820420180661, mse = 56516.8584157194\n",
      "Iteration: 910, B1 = 5.8898204201689675, mse = 56516.85841571941\n",
      "Iteration: 920, B1 = 5.889820420160125, mse = 56516.8584157194\n",
      "Iteration: 930, B1 = 5.889820420153436, mse = 56516.85841571943\n",
      "Iteration: 940, B1 = 5.889820420148378, mse = 56516.85841571941\n",
      "Iteration: 950, B1 = 5.889820420144554, mse = 56516.85841571943\n",
      "Iteration: 960, B1 = 5.889820420141663, mse = 56516.85841571941\n",
      "Iteration: 970, B1 = 5.8898204201394755, mse = 56516.85841571943\n",
      "Iteration: 980, B1 = 5.889820420137821, mse = 56516.8584157194\n",
      "Iteration: 990, B1 = 5.88982042013657, mse = 56516.85841571943\n"
     ]
    },
    {
     "data": {
      "text/plain": [
       "5.889820420135707"
      ]
     },
     "execution_count": 33,
     "metadata": {},
     "output_type": "execute_result"
    }
   ],
   "source": [
    "B1 = 10\n",
    "for i in range(1000):\n",
    "    B1 -= alpha*(2/len(X)) * ((B1*X-y) * X).sum()\n",
    "    if i%10==0:\n",
    "        print('Iteration: {i}, B1 = {B1}, mse = {mse}'.format(i=i, B1=B1, mse=mse_(B1)))\n",
    "        \n",
    "B1        "
   ]
  },
  {
   "cell_type": "markdown",
   "metadata": {},
   "source": [
    "Ответ: 5.889820420135707"
   ]
  },
  {
   "cell_type": "code",
   "execution_count": null,
   "metadata": {},
   "outputs": [],
   "source": []
  }
 ],
 "metadata": {
  "kernelspec": {
   "display_name": "Python 3",
   "language": "python",
   "name": "python3"
  },
  "language_info": {
   "codemirror_mode": {
    "name": "ipython",
    "version": 3
   },
   "file_extension": ".py",
   "mimetype": "text/x-python",
   "name": "python",
   "nbconvert_exporter": "python",
   "pygments_lexer": "ipython3",
   "version": "3.8.5"
  }
 },
 "nbformat": 4,
 "nbformat_minor": 4
}
